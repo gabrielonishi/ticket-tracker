{
 "cells": [
  {
   "cell_type": "markdown",
   "metadata": {},
   "source": [
    "# Ticket Tracker - Reduzindo o sofrimento da compra de ingressos\n",
    "\n",
    "## Índice\n",
    "\n",
    "## Introdução\n",
    "\n",
    "## Problema "
   ]
  },
  {
   "cell_type": "markdown",
   "metadata": {},
   "source": [
    "## Extração de dados "
   ]
  },
  {
   "cell_type": "code",
   "execution_count": 43,
   "metadata": {},
   "outputs": [],
   "source": [
    "# Selenium imports\n",
    "from selenium import webdriver\n",
    "from selenium.webdriver.chrome.options import Options\n",
    "from webdriver_manager.chrome import ChromeDriverManager\n",
    "from selenium.webdriver.chrome.service import Service\n",
    "from selenium.webdriver.common.by import By\n",
    "from selenium.webdriver.support.ui import WebDriverWait\n",
    "from selenium.webdriver.support import expected_conditions as EC\n",
    "\n",
    "# Beautiful Soup imports\n",
    "import bs4\n",
    "from bs4 import BeautifulSoup\n",
    "\n",
    "import utils\n",
    "import random\n",
    "import requests\n",
    "import time\n",
    "import re\n"
   ]
  },
  {
   "cell_type": "code",
   "execution_count": 2,
   "metadata": {},
   "outputs": [],
   "source": [
    "# Creating a selenium driver\n",
    "driver = webdriver.Chrome(service=Service(ChromeDriverManager().install()))\n",
    "driver.set_page_load_timeout(60)"
   ]
  },
  {
   "cell_type": "code",
   "execution_count": 3,
   "metadata": {},
   "outputs": [],
   "source": [
    "# Accessing blacktag\n",
    "url = 'https://blacktag.com.br/eventos?cidade=S%C3%A3o+Paulo'\n",
    "\n",
    "# Using random user agents to avoid host suspition\n",
    "u_agent = random.choice(utils.user_agents)\n",
    "\n",
    "arguments = [\n",
    "    \"--disable-cookies\",\n",
    "    \"--disable-local-storage\",\n",
    "    \"--disable-session-storage\",\n",
    "    \"--block-third-party-cookies\"\n",
    "    f\"user-agent={u_agent}\"\n",
    "]\n",
    "\n",
    "chrome_options = Options()\n",
    "for arg in arguments:\n",
    "    chrome_options.add_argument(arg)\n",
    "\n",
    "driver = webdriver.Chrome(options=chrome_options)\n",
    "\n",
    "driver.get(url=url)\n",
    "driver.implicitly_wait(10)"
   ]
  },
  {
   "cell_type": "code",
   "execution_count": 5,
   "metadata": {},
   "outputs": [
    {
     "ename": "ElementClickInterceptedException",
     "evalue": "Message: element click intercepted: Element <button data-page=\"1\" data-search=\"\" class=\"btn py-2 btn-primary text-uppercase font-weight-bold btn-block loading\" id=\"load-more-events\" data-url=\"/eventos?cidade=S%C3%A3o+Paulo\" disabled=\"\" style=\"display: none;\">...</button> is not clickable at point (345, 19). Other element would receive the click: <p class=\"card-text text-dark\">...</p>\n  (Session info: chrome=124.0.6367.91)\nStacktrace:\n#0 0x62dc378c7cb3 <unknown>\n#1 0x62dc375b64a7 <unknown>\n#2 0x62dc37607f73 <unknown>\n#3 0x62dc37605e76 <unknown>\n#4 0x62dc37603847 <unknown>\n#5 0x62dc37602c14 <unknown>\n#6 0x62dc375f61c9 <unknown>\n#7 0x62dc37623412 <unknown>\n#8 0x62dc375f5b58 <unknown>\n#9 0x62dc376235de <unknown>\n#10 0x62dc37641be9 <unknown>\n#11 0x62dc376231b3 <unknown>\n#12 0x62dc375f424a <unknown>\n#13 0x62dc375f4c1e <unknown>\n#14 0x62dc3788bfdb <unknown>\n#15 0x62dc3788ff2b <unknown>\n#16 0x62dc378780f1 <unknown>\n#17 0x62dc37890a92 <unknown>\n#18 0x62dc3785cfaf <unknown>\n#19 0x62dc378b6e08 <unknown>\n#20 0x62dc378b6fe0 <unknown>\n#21 0x62dc378c6e04 <unknown>\n#22 0x710991c94ac3 <unknown>\n",
     "output_type": "error",
     "traceback": [
      "\u001b[0;31m---------------------------------------------------------------------------\u001b[0m",
      "\u001b[0;31mElementClickInterceptedException\u001b[0m          Traceback (most recent call last)",
      "Cell \u001b[0;32mIn[5], line 6\u001b[0m\n\u001b[1;32m      4\u001b[0m button \u001b[38;5;241m=\u001b[39m driver\u001b[38;5;241m.\u001b[39mfind_element(By\u001b[38;5;241m.\u001b[39mID, \u001b[38;5;124m'\u001b[39m\u001b[38;5;124mload-more-events\u001b[39m\u001b[38;5;124m'\u001b[39m)\n\u001b[1;32m      5\u001b[0m \u001b[38;5;28;01mwhile\u001b[39;00m button\u001b[38;5;241m.\u001b[39mis_displayed():\n\u001b[0;32m----> 6\u001b[0m     \u001b[43mbutton\u001b[49m\u001b[38;5;241;43m.\u001b[39;49m\u001b[43mclick\u001b[49m\u001b[43m(\u001b[49m\u001b[43m)\u001b[49m\n",
      "File \u001b[0;32m~/Desktop/insper/2024.1/web-scraping/ticket-tracker/env/lib/python3.10/site-packages/selenium/webdriver/remote/webelement.py:94\u001b[0m, in \u001b[0;36mWebElement.click\u001b[0;34m(self)\u001b[0m\n\u001b[1;32m     92\u001b[0m \u001b[38;5;28;01mdef\u001b[39;00m \u001b[38;5;21mclick\u001b[39m(\u001b[38;5;28mself\u001b[39m) \u001b[38;5;241m-\u001b[39m\u001b[38;5;241m>\u001b[39m \u001b[38;5;28;01mNone\u001b[39;00m:\n\u001b[1;32m     93\u001b[0m \u001b[38;5;250m    \u001b[39m\u001b[38;5;124;03m\"\"\"Clicks the element.\"\"\"\u001b[39;00m\n\u001b[0;32m---> 94\u001b[0m     \u001b[38;5;28;43mself\u001b[39;49m\u001b[38;5;241;43m.\u001b[39;49m\u001b[43m_execute\u001b[49m\u001b[43m(\u001b[49m\u001b[43mCommand\u001b[49m\u001b[38;5;241;43m.\u001b[39;49m\u001b[43mCLICK_ELEMENT\u001b[49m\u001b[43m)\u001b[49m\n",
      "File \u001b[0;32m~/Desktop/insper/2024.1/web-scraping/ticket-tracker/env/lib/python3.10/site-packages/selenium/webdriver/remote/webelement.py:395\u001b[0m, in \u001b[0;36mWebElement._execute\u001b[0;34m(self, command, params)\u001b[0m\n\u001b[1;32m    393\u001b[0m     params \u001b[38;5;241m=\u001b[39m {}\n\u001b[1;32m    394\u001b[0m params[\u001b[38;5;124m\"\u001b[39m\u001b[38;5;124mid\u001b[39m\u001b[38;5;124m\"\u001b[39m] \u001b[38;5;241m=\u001b[39m \u001b[38;5;28mself\u001b[39m\u001b[38;5;241m.\u001b[39m_id\n\u001b[0;32m--> 395\u001b[0m \u001b[38;5;28;01mreturn\u001b[39;00m \u001b[38;5;28;43mself\u001b[39;49m\u001b[38;5;241;43m.\u001b[39;49m\u001b[43m_parent\u001b[49m\u001b[38;5;241;43m.\u001b[39;49m\u001b[43mexecute\u001b[49m\u001b[43m(\u001b[49m\u001b[43mcommand\u001b[49m\u001b[43m,\u001b[49m\u001b[43m \u001b[49m\u001b[43mparams\u001b[49m\u001b[43m)\u001b[49m\n",
      "File \u001b[0;32m~/Desktop/insper/2024.1/web-scraping/ticket-tracker/env/lib/python3.10/site-packages/selenium/webdriver/remote/webdriver.py:347\u001b[0m, in \u001b[0;36mWebDriver.execute\u001b[0;34m(self, driver_command, params)\u001b[0m\n\u001b[1;32m    345\u001b[0m response \u001b[38;5;241m=\u001b[39m \u001b[38;5;28mself\u001b[39m\u001b[38;5;241m.\u001b[39mcommand_executor\u001b[38;5;241m.\u001b[39mexecute(driver_command, params)\n\u001b[1;32m    346\u001b[0m \u001b[38;5;28;01mif\u001b[39;00m response:\n\u001b[0;32m--> 347\u001b[0m     \u001b[38;5;28;43mself\u001b[39;49m\u001b[38;5;241;43m.\u001b[39;49m\u001b[43merror_handler\u001b[49m\u001b[38;5;241;43m.\u001b[39;49m\u001b[43mcheck_response\u001b[49m\u001b[43m(\u001b[49m\u001b[43mresponse\u001b[49m\u001b[43m)\u001b[49m\n\u001b[1;32m    348\u001b[0m     response[\u001b[38;5;124m\"\u001b[39m\u001b[38;5;124mvalue\u001b[39m\u001b[38;5;124m\"\u001b[39m] \u001b[38;5;241m=\u001b[39m \u001b[38;5;28mself\u001b[39m\u001b[38;5;241m.\u001b[39m_unwrap_value(response\u001b[38;5;241m.\u001b[39mget(\u001b[38;5;124m\"\u001b[39m\u001b[38;5;124mvalue\u001b[39m\u001b[38;5;124m\"\u001b[39m, \u001b[38;5;28;01mNone\u001b[39;00m))\n\u001b[1;32m    349\u001b[0m     \u001b[38;5;28;01mreturn\u001b[39;00m response\n",
      "File \u001b[0;32m~/Desktop/insper/2024.1/web-scraping/ticket-tracker/env/lib/python3.10/site-packages/selenium/webdriver/remote/errorhandler.py:229\u001b[0m, in \u001b[0;36mErrorHandler.check_response\u001b[0;34m(self, response)\u001b[0m\n\u001b[1;32m    227\u001b[0m         alert_text \u001b[38;5;241m=\u001b[39m value[\u001b[38;5;124m\"\u001b[39m\u001b[38;5;124malert\u001b[39m\u001b[38;5;124m\"\u001b[39m]\u001b[38;5;241m.\u001b[39mget(\u001b[38;5;124m\"\u001b[39m\u001b[38;5;124mtext\u001b[39m\u001b[38;5;124m\"\u001b[39m)\n\u001b[1;32m    228\u001b[0m     \u001b[38;5;28;01mraise\u001b[39;00m exception_class(message, screen, stacktrace, alert_text)  \u001b[38;5;66;03m# type: ignore[call-arg]  # mypy is not smart enough here\u001b[39;00m\n\u001b[0;32m--> 229\u001b[0m \u001b[38;5;28;01mraise\u001b[39;00m exception_class(message, screen, stacktrace)\n",
      "\u001b[0;31mElementClickInterceptedException\u001b[0m: Message: element click intercepted: Element <button data-page=\"1\" data-search=\"\" class=\"btn py-2 btn-primary text-uppercase font-weight-bold btn-block loading\" id=\"load-more-events\" data-url=\"/eventos?cidade=S%C3%A3o+Paulo\" disabled=\"\" style=\"display: none;\">...</button> is not clickable at point (345, 19). Other element would receive the click: <p class=\"card-text text-dark\">...</p>\n  (Session info: chrome=124.0.6367.91)\nStacktrace:\n#0 0x62dc378c7cb3 <unknown>\n#1 0x62dc375b64a7 <unknown>\n#2 0x62dc37607f73 <unknown>\n#3 0x62dc37605e76 <unknown>\n#4 0x62dc37603847 <unknown>\n#5 0x62dc37602c14 <unknown>\n#6 0x62dc375f61c9 <unknown>\n#7 0x62dc37623412 <unknown>\n#8 0x62dc375f5b58 <unknown>\n#9 0x62dc376235de <unknown>\n#10 0x62dc37641be9 <unknown>\n#11 0x62dc376231b3 <unknown>\n#12 0x62dc375f424a <unknown>\n#13 0x62dc375f4c1e <unknown>\n#14 0x62dc3788bfdb <unknown>\n#15 0x62dc3788ff2b <unknown>\n#16 0x62dc378780f1 <unknown>\n#17 0x62dc37890a92 <unknown>\n#18 0x62dc3785cfaf <unknown>\n#19 0x62dc378b6e08 <unknown>\n#20 0x62dc378b6fe0 <unknown>\n#21 0x62dc378c6e04 <unknown>\n#22 0x710991c94ac3 <unknown>\n"
     ]
    }
   ],
   "source": [
    "timeout = 10\n",
    "wait = WebDriverWait(driver, timeout)\n",
    "\n",
    "button = driver.find_element(By.ID, 'load-more-events')\n",
    "while button.is_displayed():\n",
    "    button.click()"
   ]
  },
  {
   "cell_type": "code",
   "execution_count": 18,
   "metadata": {},
   "outputs": [
    {
     "data": {
      "text/plain": [
       "['https://blacktag.com.br/eventos/20397/fusion/ingressos',\n",
       " 'https://blacktag.com.br/eventos/20180/deixa-em-off-x-festa-do-chefe/ingressos',\n",
       " 'https://blacktag.com.br/eventos/20557/sextou-open-bar-premium-03-05/ingressos',\n",
       " 'https://blacktag.com.br/eventos/20363/advogado-do-diabo/ingressos',\n",
       " 'https://blacktag.com.br/eventos/20818/apagao-no-escurinho-voce-se-solta/ingressos',\n",
       " 'https://blacktag.com.br/eventos/20416/baile-de-gala-unificados-4116-4141-4155-4162-4167/ingressos',\n",
       " 'https://blacktag.com.br/eventos/20339/zodiaco-os-astros-se-alinharam/ingressos',\n",
       " 'https://blacktag.com.br/eventos/20553/interclasses-medicina-sao-caetano/ingressos',\n",
       " 'https://blacktag.com.br/eventos/19469/aniversario-do-interatleticas/ingressos',\n",
       " 'https://blacktag.com.br/eventos/20641/ressaca-pos-provas/ingressos',\n",
       " 'https://blacktag.com.br/eventos/20799/open-sunset-04-05-open-bar/ingressos',\n",
       " 'https://blacktag.com.br/eventos/20340/cervejada-pre-juca/ingressos',\n",
       " 'https://blacktag.com.br/eventos/20603/baile-do-ogro-libertacao-dos-bixos/ingressos',\n",
       " 'https://blacktag.com.br/eventos/19494/animus-world-meio-advogado-mackenzie-421/ingressos',\n",
       " 'https://blacktag.com.br/eventos/20463/open-double-open-bar-premium-04-05/ingressos',\n",
       " 'https://blacktag.com.br/eventos/17899/baile-de-gala-macknismo/ingressos',\n",
       " 'https://blacktag.com.br/eventos/20329/lisboa-insper/ingressos',\n",
       " 'https://blacktag.com.br/eventos/15864/baile-de-formatura-fgv-127/ingressos',\n",
       " 'https://blacktag.com.br/eventos/20819/baile-da-trifreixoto/ingressos',\n",
       " 'https://blacktag.com.br/eventos/20789/after-mack-engenharia-macknismo/ingressos',\n",
       " 'https://blacktag.com.br/eventos/20385/quintafunk-a-noite-do-pecado/ingressos',\n",
       " 'https://blacktag.com.br/eventos/20578/lancamento-med-tvii/ingressos',\n",
       " 'https://blacktag.com.br/eventos/20604/audicao-album-rudies-flacko/ingressos',\n",
       " 'https://blacktag.com.br/eventos/20483/rave-in-sp-noites-insanas-bday-guerreiro/ingressos',\n",
       " 'https://blacktag.com.br/eventos/20635/sextou-open-bar-premium-10-05/ingressos',\n",
       " 'https://blacktag.com.br/eventos/20475/cervejada-de-10-anos/ingressos',\n",
       " 'https://blacktag.com.br/eventos/19225/amanha-te-conto/ingressos',\n",
       " 'https://blacktag.com.br/eventos/20431/baile-de-gala-uninove-saude-4062/ingressos',\n",
       " 'https://blacktag.com.br/eventos/20787/pekando/ingressos',\n",
       " 'https://blacktag.com.br/eventos/19531/pandora-studios-15-anos/ingressos',\n",
       " 'https://blacktag.com.br/eventos/20634/open-double-open-bar-premium-c-dj-rody-11-05/ingressos',\n",
       " 'https://blacktag.com.br/eventos/20432/baile-de-gala-unip-direito-4103-41031/ingressos',\n",
       " 'https://blacktag.com.br/eventos/20629/invasao-do-olimpo/ingressos',\n",
       " 'https://blacktag.com.br/eventos/20617/gioconda-venuta-lxvi-in-new-york/ingressos',\n",
       " 'https://blacktag.com.br/eventos/15163/spbr-fest/ingressos',\n",
       " 'https://blacktag.com.br/eventos/20680/why-so-churras-9-anos-coringa/ingressos',\n",
       " 'https://blacktag.com.br/eventos/20814/after-high-stage/ingressos',\n",
       " 'https://blacktag.com.br/eventos/20345/ibiza-vs-sixtema/ingressos',\n",
       " 'https://blacktag.com.br/eventos/20489/dark/ingressos',\n",
       " 'https://blacktag.com.br/eventos/20276/mc-neguinho-do-kaxeta-na-crazy-bar-sp/ingressos',\n",
       " 'https://blacktag.com.br/eventos/20558/sextou-open-bar-premium-24-05/ingressos',\n",
       " 'https://blacktag.com.br/eventos/20608/baile-de-gala-fmu-metodista-4089-4094-4095-4129-4134/ingressos',\n",
       " 'https://blacktag.com.br/eventos/20453/interturmas-medicina-sao-camilo-2024/ingressos',\n",
       " 'https://blacktag.com.br/eventos/20094/aura-sao-paulo/ingressos',\n",
       " 'https://blacktag.com.br/eventos/20736/o-formigueiro-iii/ingressos',\n",
       " 'https://blacktag.com.br/eventos/20124/303-stage-tour-edicao-sao-paulo/ingressos',\n",
       " 'https://blacktag.com.br/eventos/19005/aniversario-do-blakes/ingressos',\n",
       " 'https://blacktag.com.br/eventos/20469/baile-de-gala-uninove-psico-4123/ingressos',\n",
       " 'https://blacktag.com.br/eventos/18966/baile-de-formatura-31-05-expo-barra-funda/ingressos',\n",
       " 'https://blacktag.com.br/eventos/18967/baile-de-formatura-01-06-expo-barra-funda/ingressos',\n",
       " 'https://blacktag.com.br/eventos/20556/white-party/ingressos',\n",
       " 'https://blacktag.com.br/eventos/20484/doce-encontro-na-crazy-bar-sp/ingressos',\n",
       " 'https://blacktag.com.br/eventos/20565/pagode-da-arena/ingressos',\n",
       " 'https://blacktag.com.br/eventos/16371/sabado-na-crazy-dj-gouveia-dj-silverio/ingressos',\n",
       " 'https://blacktag.com.br/eventos/14289/jantarsaocaetanoT10/ingressos',\n",
       " 'https://blacktag.com.br/eventos/20529/baile-do-saw-a-era-dos-paredoes/ingressos',\n",
       " 'https://blacktag.com.br/eventos/14290/bailesaocaetanoT10/ingressos',\n",
       " 'https://blacktag.com.br/eventos/19448/baile-de-formatura-fea-usp-23/ingressos',\n",
       " 'https://blacktag.com.br/eventos/19094/associacao-24-1/ingressos',\n",
       " 'https://blacktag.com.br/eventos/18928/jantar-de-gala-medicina-fam-turma-1/ingressos',\n",
       " 'https://blacktag.com.br/eventos/19033/jantar-de-gala-txxvii-mesas-extras/ingressos',\n",
       " 'https://blacktag.com.br/eventos/19021/jantar-de-gala-medicina-nove-de-julho-27/ingressos',\n",
       " 'https://blacktag.com.br/eventos/19020/baile-de-formatura-medicina-nove-de-julho-27/ingressos',\n",
       " 'https://blacktag.com.br/eventos/20439/lobweiser-7-pecados/ingressos',\n",
       " 'https://blacktag.com.br/eventos/19035/baile-de-formatura-txxvii-mesas-extras/ingressos',\n",
       " 'https://blacktag.com.br/eventos/18927/jantar-de-gala-medicina-fam-turma-8/ingressos',\n",
       " 'https://blacktag.com.br/eventos/19444/formatura-fflch-comissao-pulo-do-gato/ingressos',\n",
       " 'https://blacktag.com.br/eventos/20097/formatura-link/ingressos',\n",
       " 'https://blacktag.com.br/eventos/18277/baile-de-formatura-fgv-128/ingressos',\n",
       " 'https://blacktag.com.br/eventos/19027/baile-de-formatura-fmu-direito-2024-1/ingressos',\n",
       " 'https://blacktag.com.br/eventos/18926/baile-de-formatura-medicina-einstein-turma-6/ingressos',\n",
       " 'https://blacktag.com.br/eventos/19217/jantar-de-gala-medicina-santa-marcelina-turma-xiii/ingressos',\n",
       " 'https://blacktag.com.br/eventos/19331/baile-de-formatura-medicina-veterinaria-fmu-24-comissao-tropicalista/ingressos',\n",
       " 'https://blacktag.com.br/eventos/19218/baile-de-formatura-medicina-santa-marcelina-turma-xiii/ingressos',\n",
       " 'https://blacktag.com.br/eventos/18937/baile-de-formatura-insper-2024-1/ingressos',\n",
       " 'https://blacktag.com.br/eventos/19814/baile-de-formatura-mackverso-420/ingressos',\n",
       " 'https://blacktag.com.br/eventos/19815/baile-de-formatura-formack/ingressos',\n",
       " 'https://blacktag.com.br/eventos/20605/baile-de-formatura-comissao-unificada-espm24-1-discoteco/ingressos',\n",
       " 'https://blacktag.com.br/eventos/19028/baile-de-formatura-mackenzie-fau-2024-1/ingressos',\n",
       " 'https://blacktag.com.br/eventos/18929/jantar-de-gala-medicina-santo-amaro-55/ingressos',\n",
       " 'https://blacktag.com.br/eventos/18930/baile-de-formatura-medicina-santo-amaro-55/ingressos',\n",
       " 'https://blacktag.com.br/eventos/20305/baile-de-gala-uam-saude-2024/ingressos',\n",
       " 'https://blacktag.com.br/eventos/20382/jantar-medicina-sao-bernardo-tiv/ingressos',\n",
       " 'https://blacktag.com.br/eventos/20383/baile-medicina-sao-bernardo-tiv/ingressos',\n",
       " 'https://blacktag.com.br/eventos/20146/formatura-cosmunica-comunicacao-e-design-mackenzie-420-321/ingressos',\n",
       " 'https://blacktag.com.br/eventos/20784/baile-de-gala-sao-camilo-saude-pancadao/ingressos',\n",
       " 'https://blacktag.com.br/eventos/18976/associacao-2024/ingressos',\n",
       " 'https://blacktag.com.br/eventos/6012/30-12-evento-teste-1/ingressos',\n",
       " 'https://blacktag.com.br/eventos/14292/jantar-2/ingressos',\n",
       " 'https://blacktag.com.br/eventos/20179/jantar-de-gala-medicina-guarulhos-t4/ingressos',\n",
       " 'https://blacktag.com.br/eventos/14291/baile-2/ingressos',\n",
       " 'https://blacktag.com.br/eventos/20178/baile-de-formatura-medicina-guarulhos-t4/ingressos',\n",
       " 'https://blacktag.com.br/eventos/20487/baile-de-formatura-1/ingressos',\n",
       " 'https://blacktag.com.br/eventos/20394/baile-unicid-odonto/ingressos',\n",
       " 'https://blacktag.com.br/eventos/6013/31-12-evento-teste-2/ingressos']"
      ]
     },
     "execution_count": 18,
     "metadata": {},
     "output_type": "execute_result"
    }
   ],
   "source": [
    "soup = BeautifulSoup(driver.page_source, 'html.parser')\n",
    "\n",
    "tags = soup.find_all(\"a\", class_ = \"w-100\")\n",
    "\n",
    "events = [\"https://blacktag.com.br\" + tag.get(\"href\") + \"/ingressos\" for tag in tags]\n",
    "events"
   ]
  },
  {
   "cell_type": "code",
   "execution_count": 54,
   "metadata": {},
   "outputs": [
    {
     "name": "stdout",
     "output_type": "stream",
     "text": [
      "{0: {'url': 'https://blacktag.com.br/eventos/20397/fusion/ingressos'}, 1: {'url': 'https://blacktag.com.br/eventos/20180/deixa-em-off-x-festa-do-chefe/ingressos'}}\n"
     ]
    }
   ],
   "source": [
    "event_info = { index: {\"url\": url} for index, url in enumerate(events[:2])}\n",
    "print(event_info)"
   ]
  },
  {
   "cell_type": "code",
   "execution_count": 70,
   "metadata": {},
   "outputs": [
    {
     "name": "stdout",
     "output_type": "stream",
     "text": [
      "https://blacktag.com.br/eventos/20397/fusion/ingressos\n",
      "https://blacktag.com.br/eventos/20180/deixa-em-off-x-festa-do-chefe/ingressos\n"
     ]
    }
   ],
   "source": [
    "import time\n",
    "\n",
    "for index, url in enumerate(events[:2]):\n",
    "    time.sleep(random.uniform(0.5, 1.5))    \n",
    "\n",
    "    headers = {\n",
    "        'User-Agent': random.choice(utils.user_agents),\n",
    "    }\n",
    "\n",
    "    params = {\n",
    "        'localStorageEnabled': 'false',\n",
    "        'sessionStorageEnabled': 'false',\n",
    "    }\n",
    "    \n",
    "    response = requests.get(url, headers=headers, cookies={}, params=params)\n",
    "    \n",
    "    soup = BeautifulSoup(response.text, 'html.parser')\n",
    "    \n",
    "    a_elements = soup.find(\"a\", class_ = \"text-dark\")\n",
    "    event_name = a_elements.text.strip()\n",
    "    \n",
    "    p_elements = soup.find_all(\"p\", class_ = \"text-primary mb-sm-2 mb-1\")\n",
    "    event_date = p_elements[0].text.strip()\n",
    "    event_time = p_elements[1].text.strip()\n",
    "\n",
    "    cols = soup.find_all(\"div\", class_ = \"col py-2 px-4\")\n",
    "    \n",
    "    tickets = dict()\n",
    "\n",
    "    for ticket in cols:\n",
    "        ticket_type = ticket.find(\"div\", class_ = \"ml-md-2\").text.strip()\n",
    "        lote = ticket.find(\"div\", class_ = \"col-md-3 col-12 allotment\").text.strip()\n",
    "        lote_n = re.findall(r'\\d+', lote)\n",
    "        if lote_n:\n",
    "            lote_n = lote_n[0]\n",
    "        else:\n",
    "            lote_n = lote\n",
    "        \n",
    "        price = ticket.find(\"div\", class_ =\"col-md-3 col-12 price\").text.strip()\n",
    "        price_n = re.findall(r'\\d+,\\d+', price)[0]\n",
    "        tickets[ticket_type] = dict()\n",
    "        tickets[ticket_type][\"lot\"] = lote_n\n",
    "        tickets[ticket_type][\"price\"] = price_n\n",
    "\n",
    "    event_info[index][\"name\"] = event_name     \n",
    "    event_info[index][\"date\"] = event_date\n",
    "    event_info[index][\"time\"] = event_time\n",
    "    event_info[index][\"tickets\"] = tickets    "
   ]
  },
  {
   "cell_type": "code",
   "execution_count": 71,
   "metadata": {},
   "outputs": [
    {
     "data": {
      "text/plain": [
       "{0: {'url': 'https://blacktag.com.br/eventos/20397/fusion/ingressos',\n",
       "  'name': 'Fusion',\n",
       "  'date': 'Sex 03 de Mai',\n",
       "  'time': '20:00',\n",
       "  'tickets': {'Associado': {'lot': '2', 'price': '85,00'},\n",
       "   'Aluno Einstein': {'lot': '2', 'price': '95,00'},\n",
       "   'Externo': {'lot': '2', 'price': '100,00'}}},\n",
       " 1: {'url': 'https://blacktag.com.br/eventos/20180/deixa-em-off-x-festa-do-chefe/ingressos',\n",
       "  'name': 'Deixa em Off x Festa do Chefe',\n",
       "  'date': 'Sex 03 de Mai',\n",
       "  'time': '21:00',\n",
       "  'tickets': {'PISTA OPEN BAR': {'lot': '4', 'price': '130,00'},\n",
       "   'ÁREA VIP OPEN BAR': {'lot': '4', 'price': '215,00'},\n",
       "   'FRONTSTAGE SECO': {'lot': '2', 'price': '100,00'},\n",
       "   'PISTA OPEN BAR - PROMOÇÃO 2 INGRESSOS': {'lot': 'Promocional',\n",
       "    'price': '120,00'},\n",
       "   'PISTA OPEN BAR - PROMOÇÃO 3 INGRESSOS': {'lot': 'Promocional',\n",
       "    'price': '110,00'},\n",
       "   'ÁREA VIP OPEN BAR - PROMOÇÃO 2 INGRESSOS': {'lot': 'Promocional',\n",
       "    'price': '200,00'},\n",
       "   'ÁREA VIP OPEN BAR - PROMOÇÃO 3 INGRESSOS': {'lot': 'Promocional',\n",
       "    'price': '190,00'}}}}"
      ]
     },
     "execution_count": 71,
     "metadata": {},
     "output_type": "execute_result"
    }
   ],
   "source": [
    "event_info"
   ]
  },
  {
   "cell_type": "markdown",
   "metadata": {},
   "source": []
  },
  {
   "cell_type": "markdown",
   "metadata": {},
   "source": [
    "## Análise"
   ]
  },
  {
   "cell_type": "markdown",
   "metadata": {},
   "source": [
    "## Conclusão"
   ]
  }
 ],
 "metadata": {
  "kernelspec": {
   "display_name": "env",
   "language": "python",
   "name": "python3"
  },
  "language_info": {
   "codemirror_mode": {
    "name": "ipython",
    "version": 3
   },
   "file_extension": ".py",
   "mimetype": "text/x-python",
   "name": "python",
   "nbconvert_exporter": "python",
   "pygments_lexer": "ipython3",
   "version": "3.10.12"
  }
 },
 "nbformat": 4,
 "nbformat_minor": 2
}
