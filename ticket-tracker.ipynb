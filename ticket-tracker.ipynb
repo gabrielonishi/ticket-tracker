{
 "cells": [
  {
   "cell_type": "markdown",
   "metadata": {},
   "source": [
    "# Ticket Tracker - Reduzindo o sofrimento da compra de ingressos\n",
    "\n",
    "## Índice\n",
    "\n",
    "## Introdução\n",
    "\n",
    "## Problema "
   ]
  },
  {
   "cell_type": "markdown",
   "metadata": {},
   "source": [
    "## Extração de dados "
   ]
  },
  {
   "cell_type": "code",
   "execution_count": 1,
   "metadata": {},
   "outputs": [],
   "source": [
    "# Adicionando dependências\n",
    "\n",
    "# Selenium imports\n",
    "from selenium import webdriver\n",
    "from selenium.webdriver.chrome.options import Options\n",
    "from webdriver_manager.chrome import ChromeDriverManager\n",
    "from selenium.webdriver.chrome.service import Service\n",
    "from selenium.webdriver.common.by import By\n",
    "\n",
    "# Beautiful Soup imports\n",
    "import bs4\n",
    "from bs4 import BeautifulSoup\n",
    "\n",
    "import utils\n",
    "import random\n",
    "import requests"
   ]
  },
  {
   "cell_type": "code",
   "execution_count": 2,
   "metadata": {},
   "outputs": [],
   "source": [
    "# Creating a selenium driver\n",
    "driver = webdriver.Chrome(service=Service(ChromeDriverManager().install()))\n",
    "driver.set_page_load_timeout(60)"
   ]
  },
  {
   "cell_type": "code",
   "execution_count": 3,
   "metadata": {},
   "outputs": [],
   "source": [
    "# Accessing blacktag\n",
    "url = 'https://blacktag.com.br/eventos?cidade=S%C3%A3o+Paulo'\n",
    "\n",
    "# Using random user agents to avoid host suspition\n",
    "u_agent = random.choice(utils.user_agents)\n",
    "\n",
    "arguments = [\n",
    "    \"--disable-cookies\",\n",
    "    \"--disable-local-storage\",\n",
    "    \"--disable-session-storage\",\n",
    "    \"--block-third-party-cookies\"\n",
    "    f\"user-agent={u_agent}\"\n",
    "]\n",
    "\n",
    "chrome_options = Options()\n",
    "for arg in arguments:\n",
    "    chrome_options.add_argument(arg)\n",
    "\n",
    "driver = webdriver.Chrome(options=chrome_options)\n",
    "\n",
    "driver.get(url=url)\n",
    "driver.implicitly_wait(10)"
   ]
  },
  {
   "cell_type": "code",
   "execution_count": 8,
   "metadata": {},
   "outputs": [
    {
     "data": {
      "text/plain": [
       "['/eventos/20307/shiva-shankar-warm-up',\n",
       " '/eventos/20422/meio-medico-sao-camilo-the-great-29',\n",
       " '/eventos/20481/blocckstar-convida',\n",
       " '/eventos/19995/mc-ig-na-crazy',\n",
       " '/eventos/20236/sabado-noite-open-duble-27-04',\n",
       " '/eventos/20655/trifreixoto-festa-da-senha',\n",
       " '/eventos/20267/baile-de-gala-unip-saude-4073',\n",
       " '/eventos/15301/baile-de-gala-fuzue',\n",
       " '/eventos/20586/open-double-premium-vespera-de-feriado-c-persanto',\n",
       " '/eventos/20284/arraxta-pra-cima',\n",
       " '/eventos/20180/deixa-em-off-x-festa-do-chefe',\n",
       " '/eventos/20397/fusion']"
      ]
     },
     "execution_count": 8,
     "metadata": {},
     "output_type": "execute_result"
    }
   ],
   "source": [
    "soup = BeautifulSoup(driver.page_source, 'html.parser')\n",
    "\n",
    "tags = soup.find_all(\"a\", class_ = \"w-100\")\n",
    "\n",
    "links = [tag.get(\"href\") for tag in tags]\n",
    "links"
   ]
  },
  {
   "cell_type": "markdown",
   "metadata": {},
   "source": [
    "## Análise"
   ]
  },
  {
   "cell_type": "markdown",
   "metadata": {},
   "source": [
    "## Conclusão"
   ]
  }
 ],
 "metadata": {
  "kernelspec": {
   "display_name": "env",
   "language": "python",
   "name": "python3"
  },
  "language_info": {
   "codemirror_mode": {
    "name": "ipython",
    "version": 3
   },
   "file_extension": ".py",
   "mimetype": "text/x-python",
   "name": "python",
   "nbconvert_exporter": "python",
   "pygments_lexer": "ipython3",
   "version": "3.10.12"
  }
 },
 "nbformat": 4,
 "nbformat_minor": 2
}
