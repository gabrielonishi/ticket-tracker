{
 "cells": [
  {
   "cell_type": "markdown",
   "metadata": {},
   "source": [
    "# Ticket Tracker - Reduzindo o sofrimento da compra de ingressos\n",
    "\n",
    "## Índice\n",
    "\n",
    "## Introdução\n",
    "\n",
    "## Problema "
   ]
  },
  {
   "cell_type": "markdown",
   "metadata": {},
   "source": [
    "## Extração de dados "
   ]
  },
  {
   "cell_type": "code",
   "execution_count": 1,
   "metadata": {},
   "outputs": [],
   "source": [
    "# Selenium imports\n",
    "from selenium import webdriver\n",
    "from selenium.webdriver.chrome.options import Options\n",
    "from webdriver_manager.chrome import ChromeDriverManager\n",
    "from selenium.webdriver.chrome.service import Service\n",
    "from selenium.webdriver.common.by import By\n",
    "from selenium.webdriver.support.ui import WebDriverWait\n",
    "from selenium.webdriver.support import expected_conditions as EC\n",
    "\n",
    "# Beautiful Soup imports\n",
    "import bs4\n",
    "from bs4 import BeautifulSoup\n",
    "\n",
    "import utils\n",
    "import random\n",
    "import requests\n",
    "import time"
   ]
  },
  {
   "cell_type": "code",
   "execution_count": 2,
   "metadata": {},
   "outputs": [],
   "source": [
    "# Creating a selenium driver\n",
    "driver = webdriver.Chrome(service=Service(ChromeDriverManager().install()))\n",
    "driver.set_page_load_timeout(60)"
   ]
  },
  {
   "cell_type": "code",
   "execution_count": 3,
   "metadata": {},
   "outputs": [],
   "source": [
    "# Accessing blacktag\n",
    "url = 'https://blacktag.com.br/eventos?cidade=S%C3%A3o+Paulo'\n",
    "\n",
    "# Using random user agents to avoid host suspition\n",
    "u_agent = random.choice(utils.user_agents)\n",
    "\n",
    "arguments = [\n",
    "    \"--disable-cookies\",\n",
    "    \"--disable-local-storage\",\n",
    "    \"--disable-session-storage\",\n",
    "    \"--block-third-party-cookies\"\n",
    "    f\"user-agent={u_agent}\"\n",
    "]\n",
    "\n",
    "chrome_options = Options()\n",
    "for arg in arguments:\n",
    "    chrome_options.add_argument(arg)\n",
    "\n",
    "driver = webdriver.Chrome(options=chrome_options)\n",
    "\n",
    "driver.get(url=url)\n",
    "driver.implicitly_wait(10)"
   ]
  },
  {
   "cell_type": "code",
   "execution_count": 4,
   "metadata": {},
   "outputs": [],
   "source": [
    "timeout = 10\n",
    "wait = WebDriverWait(driver, timeout)\n",
    "\n",
    "button = driver.find_element(By.ID, 'load-more-events')\n",
    "while button.is_displayed():\n",
    "    button.click()"
   ]
  },
  {
   "cell_type": "code",
   "execution_count": 5,
   "metadata": {},
   "outputs": [
    {
     "data": {
      "text/plain": [
       "['/eventos/20284/arraxta-pra-cima',\n",
       " '/eventos/20586/open-double-premium-vespera-de-feriado-c-persanto',\n",
       " '/eventos/20797/beba-sem-medo-vespera-de-feriado',\n",
       " '/eventos/20180/deixa-em-off-x-festa-do-chefe',\n",
       " '/eventos/20397/fusion',\n",
       " '/eventos/20557/sextou-open-bar-premium-03-05',\n",
       " '/eventos/20363/advogado-do-diabo',\n",
       " '/eventos/20416/baile-de-gala-unificados-4116-4141-4155-4162-4167',\n",
       " '/eventos/20339/zodiaco-os-astros-se-alinharam',\n",
       " '/eventos/20553/interclasses-medicina-sao-caetano',\n",
       " '/eventos/19469/aniversario-do-interatleticas',\n",
       " '/eventos/20799/open-sunset-04-05-open-bar',\n",
       " '/eventos/20603/baile-do-ogro-libertacao-dos-bixos',\n",
       " '/eventos/19494/animus-world-meio-advogado-mackenzie-421',\n",
       " '/eventos/20463/open-double-open-bar-premium-04-05',\n",
       " '/eventos/17899/baile-de-gala-macknismo',\n",
       " '/eventos/20329/lisboa-insper',\n",
       " '/eventos/15864/baile-de-formatura-fgv-127',\n",
       " '/eventos/20789/after-mack-engenharia-macknismo',\n",
       " '/eventos/20385/quintafunk-a-noite-do-pecado',\n",
       " '/eventos/20578/lancamento-med-tvii',\n",
       " '/eventos/20604/audicao-album-rudies-flacko',\n",
       " '/eventos/20483/rave-in-sp-noites-insanas-bday-guerreiro',\n",
       " '/eventos/20635/sextou-open-bar-premium-10-05',\n",
       " '/eventos/20475/cervejada-de-10-anos',\n",
       " '/eventos/19225/amanha-te-conto',\n",
       " '/eventos/20431/baile-de-gala-uninove-saude-4062',\n",
       " '/eventos/20787/pekando',\n",
       " '/eventos/19531/pandora-studios-15-anos',\n",
       " '/eventos/20634/open-double-open-bar-premium-c-dj-rody-11-05',\n",
       " '/eventos/20432/baile-de-gala-unip-direito-4103-41031',\n",
       " '/eventos/20617/gioconda-venuta-lxvi-in-new-york',\n",
       " '/eventos/20629/invasao-do-olimpo',\n",
       " '/eventos/15163/spbr-fest',\n",
       " '/eventos/20680/why-so-churras-9-anos-coringa',\n",
       " '/eventos/20345/ibiza-vs-sixtema',\n",
       " '/eventos/20489/dark',\n",
       " '/eventos/20276/mc-neguinho-do-kaxeta-na-crazy-bar-sp',\n",
       " '/eventos/20558/sextou-open-bar-premium-24-05',\n",
       " '/eventos/20608/baile-de-gala-fmu-metodista-4089-4094-4095-4129-4134',\n",
       " '/eventos/20453/interturmas-medicina-sao-camilo-2024',\n",
       " '/eventos/20094/aura-sao-paulo',\n",
       " '/eventos/20736/o-formigueiro-iii',\n",
       " '/eventos/20124/303-stage-tour-edicao-sao-paulo',\n",
       " '/eventos/19005/aniversario-do-blakes',\n",
       " '/eventos/20469/baile-de-gala-uninove-psico-4123',\n",
       " '/eventos/18966/baile-de-formatura-31-05-expo-barra-funda',\n",
       " '/eventos/18967/baile-de-formatura-01-06-expo-barra-funda',\n",
       " '/eventos/20556/white-party',\n",
       " '/eventos/20484/doce-encontro-na-crazy-bar-sp',\n",
       " '/eventos/20565/pagode-da-arena',\n",
       " '/eventos/16371/sabado-na-crazy-dj-gouveia-dj-silverio',\n",
       " '/eventos/14289/jantarsaocaetanoT10',\n",
       " '/eventos/14290/bailesaocaetanoT10',\n",
       " '/eventos/19448/baile-de-formatura-fea-usp-23',\n",
       " '/eventos/19094/associacao-24-1',\n",
       " '/eventos/18928/jantar-de-gala-medicina-fam-turma-1',\n",
       " '/eventos/19033/jantar-de-gala-txxvii-mesas-extras',\n",
       " '/eventos/19021/jantar-de-gala-medicina-nove-de-julho-27',\n",
       " '/eventos/19020/baile-de-formatura-medicina-nove-de-julho-27',\n",
       " '/eventos/20439/lobweiser-7-pecados',\n",
       " '/eventos/19035/baile-de-formatura-txxvii-mesas-extras',\n",
       " '/eventos/18927/jantar-de-gala-medicina-fam-turma-8',\n",
       " '/eventos/19444/formatura-fflch-comissao-pulo-do-gato',\n",
       " '/eventos/20097/formatura-link',\n",
       " '/eventos/18277/baile-de-formatura-fgv-128',\n",
       " '/eventos/19027/baile-de-formatura-fmu-direito-2024-1',\n",
       " '/eventos/18926/baile-de-formatura-medicina-einstein-turma-6',\n",
       " '/eventos/19217/jantar-de-gala-medicina-santa-marcelina-turma-xiii',\n",
       " '/eventos/19331/baile-de-formatura-medicina-veterinaria-fmu-24-comissao-tropicalista',\n",
       " '/eventos/19218/baile-de-formatura-medicina-santa-marcelina-turma-xiii',\n",
       " '/eventos/18937/baile-de-formatura-insper-2024-1',\n",
       " '/eventos/19814/baile-de-formatura-mackverso-420',\n",
       " '/eventos/19815/baile-de-formatura-formack',\n",
       " '/eventos/20605/baile-de-formatura-comissao-unificada-espm24-1-discoteco',\n",
       " '/eventos/19028/baile-de-formatura-mackenzie-fau-2024-1',\n",
       " '/eventos/18929/jantar-de-gala-medicina-santo-amaro-55',\n",
       " '/eventos/18930/baile-de-formatura-medicina-santo-amaro-55',\n",
       " '/eventos/20305/baile-de-gala-uam-saude-2024',\n",
       " '/eventos/20382/jantar-medicina-sao-bernardo-tiv',\n",
       " '/eventos/20383/baile-medicina-sao-bernardo-tiv',\n",
       " '/eventos/20146/formatura-cosmunica-comunicacao-e-design-mackenzie-420-321',\n",
       " '/eventos/18976/associacao-2024',\n",
       " '/eventos/6012/30-12-evento-teste-1',\n",
       " '/eventos/14292/jantar-2',\n",
       " '/eventos/20179/jantar-de-gala-medicina-guarulhos-t4',\n",
       " '/eventos/14291/baile-2',\n",
       " '/eventos/20178/baile-de-formatura-medicina-guarulhos-t4',\n",
       " '/eventos/20487/baile-de-formatura-1',\n",
       " '/eventos/20394/baile-unicid-odonto',\n",
       " '/eventos/6013/31-12-evento-teste-2']"
      ]
     },
     "execution_count": 5,
     "metadata": {},
     "output_type": "execute_result"
    }
   ],
   "source": [
    "soup = BeautifulSoup(driver.page_source, 'html.parser')\n",
    "\n",
    "tags = soup.find_all(\"a\", class_ = \"w-100\")\n",
    "\n",
    "links = [tag.get(\"href\") for tag in tags]\n",
    "links"
   ]
  },
  {
   "cell_type": "markdown",
   "metadata": {},
   "source": [
    "## Análise"
   ]
  },
  {
   "cell_type": "markdown",
   "metadata": {},
   "source": [
    "## Conclusão"
   ]
  }
 ],
 "metadata": {
  "kernelspec": {
   "display_name": "env",
   "language": "python",
   "name": "python3"
  },
  "language_info": {
   "codemirror_mode": {
    "name": "ipython",
    "version": 3
   },
   "file_extension": ".py",
   "mimetype": "text/x-python",
   "name": "python",
   "nbconvert_exporter": "python",
   "pygments_lexer": "ipython3",
   "version": "3.10.12"
  }
 },
 "nbformat": 4,
 "nbformat_minor": 2
}
